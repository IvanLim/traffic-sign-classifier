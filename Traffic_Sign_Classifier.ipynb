{
 "cells": [
  {
   "cell_type": "markdown",
   "metadata": {},
   "source": [
    "# Self-Driving Car Engineer Nanodegree\n",
    "\n",
    "## Deep Learning\n",
    "\n",
    "## Project: Build a Traffic Sign Recognition Classifier\n",
    "\n",
    "In this notebook, a template is provided for you to implement your functionality in stages, which is required to successfully complete this project. If additional code is required that cannot be included in the notebook, be sure that the Python code is successfully imported and included in your submission if necessary. \n",
    "\n",
    "> **Note**: Once you have completed all of the code implementations, you need to finalize your work by exporting the iPython Notebook as an HTML document. Before exporting the notebook to html, all of the code cells need to have been run so that reviewers can see the final implementation and output. You can then export the notebook by using the menu above and navigating to  \\n\",\n",
    "    \"**File -> Download as -> HTML (.html)**. Include the finished document along with this notebook as your submission. \n",
    "\n",
    "In addition to implementing code, there is a writeup to complete. The writeup should be completed in a separate file, which can be either a markdown file or a pdf document. There is a [write up template](https://github.com/udacity/CarND-Traffic-Sign-Classifier-Project/blob/master/writeup_template.md) that can be used to guide the writing process. Completing the code template and writeup template will cover all of the [rubric points](https://review.udacity.com/#!/rubrics/481/view) for this project.\n",
    "\n",
    "The [rubric](https://review.udacity.com/#!/rubrics/481/view) contains \"Stand Out Suggestions\" for enhancing the project beyond the minimum requirements. The stand out suggestions are optional. If you decide to pursue the \"stand out suggestions\", you can include the code in this Ipython notebook and also discuss the results in the writeup file.\n",
    "\n",
    "\n",
    ">**Note:** Code and Markdown cells can be executed using the **Shift + Enter** keyboard shortcut. In addition, Markdown cells can be edited by typically double-clicking the cell to enter edit mode."
   ]
  },
  {
   "cell_type": "markdown",
   "metadata": {},
   "source": [
    "---\n",
    "## Step 0: Load The Data"
   ]
  },
  {
   "cell_type": "code",
   "execution_count": 1,
   "metadata": {
    "collapsed": false
   },
   "outputs": [],
   "source": [
    "# Load pickled data\n",
    "import pickle\n",
    "import numpy as np\n",
    "import csv\n",
    "\n",
    "data_folder = 'data/'\n",
    "training_file = 'train.p'\n",
    "validation_file = 'valid.p'\n",
    "testing_file = 'test.p'\n",
    "fake_data_file = 'fake_data.p'\n",
    "\n",
    "model_file = './traffic_sign_classifier_model.ckpt'\n",
    "sign_names_file = './signnames.csv'\n",
    "\n",
    "with open(data_folder + training_file, mode='rb') as f:\n",
    "    train = pickle.load(f)\n",
    "with open(data_folder + validation_file, mode='rb') as f:\n",
    "    valid = pickle.load(f)\n",
    "with open(data_folder + testing_file, mode='rb') as f:\n",
    "    test = pickle.load(f)   \n",
    "with open(data_folder + fake_data_file, mode='rb') as f:\n",
    "    fake_data = pickle.load(f)\n",
    "    \n",
    "# Load CSV data\n",
    "sign_name_lookup = dict()\n",
    "with open(sign_names_file, newline='') as csvfile:\n",
    "    sign_names_reader = csv.reader(csvfile)\n",
    "    for row in sign_names_reader:\n",
    "        sign_name_lookup[row[0]] = row[1]\n",
    "\n",
    "X_train, y_train = train['features'], train['labels']\n",
    "X_valid, y_valid = valid['features'], valid['labels']\n",
    "X_test, y_test = test['features'], test['labels']\n",
    "X_fake_data, y_fake_data = fake_data['features'], fake_data['labels']"
   ]
  },
  {
   "cell_type": "markdown",
   "metadata": {},
   "source": [
    "---\n",
    "\n",
    "## Step 1: Dataset Summary & Exploration\n",
    "\n",
    "The pickled data is a dictionary with 4 key/value pairs:\n",
    "\n",
    "- `'features'` is a 4D array containing raw pixel data of the traffic sign images, (num examples, width, height, channels).\n",
    "- `'labels'` is a 1D array containing the label/class id of the traffic sign. The file `signnames.csv` contains id -> name mappings for each id.\n",
    "- `'sizes'` is a list containing tuples, (width, height) representing the the original width and height the image.\n",
    "- `'coords'` is a list containing tuples, (x1, y1, x2, y2) representing coordinates of a bounding box around the sign in the image. **THESE COORDINATES ASSUME THE ORIGINAL IMAGE. THE PICKLED DATA CONTAINS RESIZED VERSIONS (32 by 32) OF THESE IMAGES**\n",
    "\n",
    "Complete the basic data summary below. Use python, numpy and/or pandas methods to calculate the data summary rather than hard coding the results. For example, the [pandas shape method](http://pandas.pydata.org/pandas-docs/stable/generated/pandas.DataFrame.shape.html) might be useful for calculating some of the summary results. "
   ]
  },
  {
   "cell_type": "markdown",
   "metadata": {},
   "source": [
    "### Provide a Basic Summary of the Data Set Using Python, Numpy and/or Pandas"
   ]
  },
  {
   "cell_type": "code",
   "execution_count": 2,
   "metadata": {
    "collapsed": false
   },
   "outputs": [
    {
     "name": "stdout",
     "output_type": "stream",
     "text": [
      "[Original (unaugmented) dataset statistics]\n",
      "Training examples in original dataset = 34799\n",
      "Training examples in augmented dataset = 72701\n",
      "Number of validation examples = 4410\n",
      "Number of testing examples = 12630\n",
      "Image data shape = (32, 32, 3)\n",
      "Number of classes = 43\n"
     ]
    }
   ],
   "source": [
    "import numpy as np\n",
    "\n",
    "n_train = len(X_train)\n",
    "n_test = len(X_test)\n",
    "n_validation = len(X_valid)\n",
    "n_fake_data = len(X_fake_data)\n",
    "image_shape = X_train[0].shape\n",
    "n_classes = len(np.unique(y_train))\n",
    "\n",
    "print(\"[Original (unaugmented) dataset statistics]\")\n",
    "print(\"Training examples in original dataset =\", n_train)\n",
    "print(\"Training examples in augmented dataset =\", n_fake_data)\n",
    "print(\"Number of validation examples =\", n_validation)\n",
    "print(\"Number of testing examples =\", n_test)\n",
    "print(\"Image data shape =\", image_shape)\n",
    "print(\"Number of classes =\", n_classes)"
   ]
  },
  {
   "cell_type": "markdown",
   "metadata": {},
   "source": [
    "### Include an exploratory visualization of the dataset"
   ]
  },
  {
   "cell_type": "markdown",
   "metadata": {},
   "source": [
    "Visualize the German Traffic Signs Dataset using the pickled file(s). This is open ended, suggestions include: plotting traffic sign images, plotting the count of each sign, etc.\n",
    "\n",
    "The [Matplotlib](http://matplotlib.org/) [examples](http://matplotlib.org/examples/index.html) and [gallery](http://matplotlib.org/gallery.html) pages are a great resource for doing visualizations in Python.\n",
    "\n",
    "**NOTE:** It's recommended you start with something simple first. If you wish to do more, come back to it after you've completed the rest of the sections."
   ]
  },
  {
   "cell_type": "code",
   "execution_count": 3,
   "metadata": {
    "collapsed": false
   },
   "outputs": [
    {
     "data": {
      "text/plain": [
       "<Container object of 43 artists>"
      ]
     },
     "execution_count": 3,
     "metadata": {},
     "output_type": "execute_result"
    },
    {
     "data": {
      "image/png": "[encoded data removed]",
      "text/plain": [
       "<matplotlib.figure.Figure at 0x7fc092c6a748>"
      ]
     },
     "metadata": {},
     "output_type": "display_data"
    },
    {
     "data": {
      "image/png": "[encoded data removed]",
      "text/plain": [
       "<matplotlib.figure.Figure at 0x7fc094820cc0>"
      ]
     },
     "metadata": {},
     "output_type": "display_data"
    }
   ],
   "source": [
    "import matplotlib.pyplot as plt\n",
    "import random\n",
    "%matplotlib inline\n",
    "\n",
    "def random_image_for_sign_id(sign_id):\n",
    "    skipcount = random.randint(1,150)\n",
    "    for z in range(0, len(y_train)):\n",
    "        if y_train[z] == sign_id:\n",
    "            skipcount = skipcount - 1\n",
    "            if skipcount <= 0:\n",
    "                break\n",
    "    return X_train[z]\n",
    "\n",
    "# Show a random image from the training dataset for a given sign ID\n",
    "sign_id = 0\n",
    "image = random_image_for_sign_id(sign_id)\n",
    "plt.figure()\n",
    "plt.title(sign_name_lookup[str(sign_id)])\n",
    "plt.imshow(image.squeeze())\n",
    "\n",
    "# Show training examples available per sign id\n",
    "sign_ids, sign_counts = np.unique(y_train, return_counts=True)\n",
    "plt.figure(figsize=(12,4))\n",
    "plt.title(\"Training examples available per sign (before data augmentation)\")\n",
    "plt.xticks(sign_ids)\n",
    "plt.bar(sign_ids, sign_counts)"
   ]
  },
  {
   "cell_type": "markdown",
   "metadata": {},
   "source": [
    "----\n",
    "\n",
    "## Step 2: Design and Test a Model Architecture\n",
    "\n",
    "Design and implement a deep learning model that learns to recognize traffic signs. Train and test your model on the [German Traffic Sign Dataset](http://benchmark.ini.rub.de/?section=gtsrb&subsection=dataset).\n",
    "\n",
    "There are various aspects to consider when thinking about this problem:\n",
    "\n",
    "- Neural network architecture\n",
    "- Play around preprocessing techniques (normalization, rgb to grayscale, etc)\n",
    "- Number of examples per label (some have more than others).\n",
    "- Generate fake data.\n",
    "\n",
    "Here is an example of a [published baseline model on this problem](http://yann.lecun.com/exdb/publis/pdf/sermanet-ijcnn-11.pdf). It's not required to be familiar with the approach used in the paper but, it's good practice to try to read papers like these.\n",
    "\n",
    "**NOTE:** The LeNet-5 implementation shown in the [classroom](https://classroom.udacity.com/nanodegrees/nd013/parts/fbf77062-5703-404e-b60c-95b78b2f3f9e/modules/6df7ae49-c61c-4bb2-a23e-6527e69209ec/lessons/601ae704-1035-4287-8b11-e2c2716217ad/concepts/d4aca031-508f-4e0b-b493-e7b706120f81) at the end of the CNN lesson is a solid starting point. You'll have to change the number of classes and possibly the preprocessing, but aside from that it's plug and play!"
   ]
  },
  {
   "cell_type": "markdown",
   "metadata": {},
   "source": [
    "### Pre-process the Data Set (normalization, grayscale, etc.)"
   ]
  },
  {
   "cell_type": "markdown",
   "metadata": {},
   "source": [
    "Use the code cell (or multiple code cells, if necessary) to implement the first step of your project."
   ]
  },
  {
   "cell_type": "code",
   "execution_count": 4,
   "metadata": {
    "collapsed": false,
    "scrolled": false
   },
   "outputs": [],
   "source": [
    "### Helper functions for image manipulation\n",
    "### Both for generating perturbations, and also for preprocessing images\n",
    "###\n",
    "### General reference: http://www.scipy-lectures.org/advanced/image_processing/\n",
    "### Reference for perturbation algorithms: https://fsix.github.io/mnist/Perturbing.html\n",
    "### Reference for scaling while maintaining shape: http://stackoverflow.com/questions/37119071/scipy-rotate-and-zoom-an-image-without-changing-its-dimensions\n",
    "### Reference for adjusting image brightness: http://stackoverflow.com/questions/32609098/how-to-fast-change-image-brightness-with-python-opencv\n",
    "### Reference for histogram equalization: http://docs.opencv.org/3.1.0/d5/daf/tutorial_py_histogram_equalization.html\n",
    "\n",
    "import matplotlib.pyplot as plt\n",
    "%matplotlib inline\n",
    "\n",
    "import scipy.ndimage as ndimage\n",
    "import scipy.misc as misc\n",
    "import numpy.random as random\n",
    "import cv2 as opencv\n",
    "import pickle\n",
    "\n",
    "def random_perspective_transform(image):    \n",
    "    distortion = 5\n",
    "    x1 = random.randint(0 - distortion, distortion)\n",
    "    y1 = random.randint(0 - distortion, distortion)\n",
    "    x2 = image.shape[1] + random.randint(0 - distortion, distortion)\n",
    "    y2 = random.randint(0 - distortion, distortion)\n",
    "    x3 = random.randint(0 - distortion, distortion)\n",
    "    y3 = image.shape[0] + random.randint(0 - distortion, distortion)\n",
    "    x4 = image.shape[1] + random.randint(0 - distortion, distortion)\n",
    "    y4 = image.shape[0] + random.randint(0 - distortion, distortion)\n",
    "    \n",
    "    pts1 = np.float32([[x1,y1],[x2,y2],[x3,y3],[x4,y4]])\n",
    "    pts2 = np.float32([[0,0],[32,0],[0,32],[32,32]])\n",
    "    \n",
    "    M = opencv.getPerspectiveTransform(pts1,pts2)\n",
    "    output = opencv.warpPerspective(image,M,(32,32))\n",
    "    return output\n",
    "\n",
    "def random_rotate(image):\n",
    "    distortion = random.randint(-15, 15)\n",
    "    return ndimage.rotate(image, distortion, reshape=False)\n",
    "\n",
    "def random_scale(image):   \n",
    "    def clipped_zoom(img, zoom_factor, **kwargs):\n",
    "        h, w = img.shape[:2]\n",
    "        zh = int(np.round(zoom_factor * h))\n",
    "        zw = int(np.round(zoom_factor * w))\n",
    "        zoom_tuple = (zoom_factor,) * 2 + (1,) * (img.ndim - 2)\n",
    "        \n",
    "        if zoom_factor < 1:\n",
    "            top = (h - zh) // 2\n",
    "            left = (w - zw) // 2\n",
    "            out = np.zeros_like(img)\n",
    "            out[top:top+zh, left:left+zw] = ndimage.zoom(img, zoom_tuple , **kwargs)\n",
    "        elif zoom_factor > 1:\n",
    "            top = (zh - h) // 2\n",
    "            left = (zw - w) // 2\n",
    "            out = ndimage.zoom(img[top:top+zh, left:left+zw], zoom_tuple, **kwargs)\n",
    "            \n",
    "            trim_top = ((out.shape[0] - h) // 2)\n",
    "            trim_left = ((out.shape[1] - w) // 2)\n",
    "            out = out[trim_top:trim_top+h, trim_left:trim_left+w]\n",
    "        else:\n",
    "            out = img\n",
    "        return out\n",
    "    \n",
    "    distortion = random.uniform(0.8, 1.2)\n",
    "    return clipped_zoom(image, distortion)\n",
    "\n",
    "def random_brightness(image):\n",
    "    hsv = opencv.cvtColor(image, opencv.COLOR_BGR2HSV)\n",
    "    maxlimit = np.amax(hsv[:,:,2])\n",
    "    minlimit = np.amin(hsv[:,:,2])\n",
    "    distortion = random.randint(-50, 50)\n",
    "    safe_brightness = 0\n",
    "    if distortion > 0:\n",
    "        safe_brightness = min(255 - maxlimit, distortion)\n",
    "    else:\n",
    "        safe_brightness = max(0 - minlimit, distortion)\n",
    "    hsv[:,:,2] += np.uint8(safe_brightness)\n",
    "    image = opencv.cvtColor(hsv, opencv.COLOR_HSV2BGR)\n",
    "    return image\n",
    "\n",
    "def random_blur(image):\n",
    "    return ndimage.gaussian_filter(image, sigma=random.uniform(0.0, 0.3))\n",
    "\n",
    "def random_shift(image):\n",
    "    distortion = random.randint(-2, 2)\n",
    "    return ndimage.interpolation.shift(image, (distortion, distortion, 0))\n",
    "\n",
    "# We need this for equalizing histograms\n",
    "clahe = opencv.createCLAHE(clipLimit=2.0, tileGridSize=(4,4))\n",
    "def greyscale(image):\n",
    "    greyscale_image = opencv.cvtColor(image, opencv.COLOR_RGB2GRAY)\n",
    "    equalized_hist = clahe.apply(greyscale_image.squeeze())\n",
    "    equalized_hist = equalized_hist.reshape(equalized_hist.shape + (1,))\n",
    "    return equalized_hist\n",
    "\n",
    "def normalize(image):\n",
    "    normalized_image = np.copy(image)\n",
    "    normalized_image = opencv.normalize(image, dst=normalized_image, alpha=-1, beta=1, norm_type=opencv.NORM_MINMAX, dtype=opencv.CV_32F)\n",
    "    normalized_image = normalized_image.reshape(normalized_image.shape + (1,))\n",
    "    return normalized_image\n",
    "\n",
    "def preprocess(image):\n",
    "    return normalize(greyscale(image))\n",
    "\n",
    "def create_distorted_variant(image):\n",
    "    image = random_brightness(image)\n",
    "        \n",
    "    if (random.randint(0, 1) == 0):\n",
    "        image = random_scale(image)\n",
    "    else:\n",
    "        image = random_perspective_transform(image)\n",
    "\n",
    "    if (random.randint(0, 1) == 0):\n",
    "        image = random_shift(image)\n",
    "        \n",
    "    if (random.randint(0, 1) == 0):\n",
    "        image = random_rotate(image)\n",
    "        \n",
    "    if (random.randint(0, 1) == 0):\n",
    "        image = random_blur(image)        \n",
    "    return image\n",
    "    \n",
    "# Looks at the number of training examples for each traffic sign,\n",
    "# and augments it with supplementary fake data so that there are\n",
    "# enough training examples for all signs\n",
    "def build_augmented_dataset():\n",
    "    \n",
    "    with open(data_folder + training_file, mode='rb') as f:\n",
    "        original_data = pickle.load(f)\n",
    "    \n",
    "    train_features, train_labels = original_data['features'], original_data['labels']\n",
    "    target_training_size_per_sign = 2500\n",
    "    \n",
    "    # Figure out the number of training samples for each sign that we have\n",
    "    # We want to generate enough fake data so that all signs have the\n",
    "    # same amount of training data\n",
    "    sign_ids, sign_counts = np.unique(train_labels, return_counts=True)\n",
    "    counts = dict(zip(sign_ids, sign_counts))\n",
    "    \n",
    "    fake_feature_data = []\n",
    "    fake_label_data = []\n",
    "    \n",
    "    for sign_id, sign_count in counts.items():\n",
    "        counts[sign_id] = dict()\n",
    "        counts[sign_id]['count'] = sign_count\n",
    "        counts[sign_id]['variants_needed'] = target_training_size_per_sign - sign_count\n",
    "        counts[sign_id]['indices'] = []\n",
    "\n",
    "    for x in range(0, len(train_features)):\n",
    "        curr_feature = train_features[x]\n",
    "        curr_label = train_labels[x]\n",
    "        counts[curr_label]['indices'].append(x)\n",
    "\n",
    "    # We now have a dict of the gaps we need to fill (both their indices, and the counts)\n",
    "    for sign_id, details in counts.items():\n",
    "        variants_needed = details['variants_needed']\n",
    "        source_image_indices = details['indices']\n",
    "        \n",
    "        print()\n",
    "        print(\"Generating variants for sign: \", sign_id, \"...\")\n",
    "        current_source_image = 0\n",
    "        for x in range(0, variants_needed):\n",
    "            source_image_index = source_image_indices[current_source_image]\n",
    "            source_image = train_features[source_image_index]            \n",
    "            \n",
    "            new_image = create_distorted_variant(source_image)\n",
    "            fake_feature_data.append(new_image)\n",
    "            fake_label_data.append(sign_id)\n",
    "            \n",
    "            if current_source_image > 0 and current_source_image % 500 == 0:\n",
    "                print(\"  \", x, \"/\", variants_needed)\n",
    "            \n",
    "            current_source_image = (current_source_image + 1) % len(details['indices'])\n",
    "            \n",
    "    fake_data = { 'features': fake_feature_data, 'labels': fake_label_data }\n",
    "    with open(data_folder + fake_data_file, 'wb') as output:\n",
    "        pickle.dump(fake_data, output, pickle.HIGHEST_PROTOCOL)\n",
    "    print(\"Saving complete.\")\n",
    "\n",
    "# Mix up the test and training sets and re-split them\n",
    "def rebuild_train_and_test(X_train, y_train, X_test, y_test):\n",
    "    X_train, X_test, y_train, y_test = train_test_split(np.concatenate([X_train, X_test]), np.concatenate([y_train, y_test]), test_size=0.3)\n",
    "    return X_train, y_train, X_test, y_test\n",
    "\n",
    "\n",
    "# Uncomment this line to build the fake dataset\n",
    "#\n",
    "# build_augmented_dataset()\n",
    "#"
   ]
  },
  {
   "cell_type": "code",
   "execution_count": 5,
   "metadata": {
    "collapsed": false
   },
   "outputs": [
    {
     "name": "stderr",
     "output_type": "stream",
     "text": [
      "/home/cerebro/miniconda3/envs/carnd-term1/lib/python3.5/site-packages/sklearn/cross_validation.py:44: DeprecationWarning: This module was deprecated in version 0.18 in favor of the model_selection module into which all the refactored classes and functions are moved. Also note that the interface of the new CV iterators are different from that of this module. This module will be removed in 0.20.\n",
      "  \"This module will be removed in 0.20.\", DeprecationWarning)\n"
     ]
    },
    {
     "name": "stdout",
     "output_type": "stream",
     "text": [
      "[New (augmented) dataset statistics]\n",
      "Training examples in original dataset = 84091\n",
      "Number of testing examples = 36039\n",
      "Number of classes in Training set = 43\n",
      "Number of classes in Test set = 43\n"
     ]
    },
    {
     "data": {
      "image/png": "[encoded data removed]",
      "text/plain": [
       "<matplotlib.figure.Figure at 0x7fc0945f1f28>"
      ]
     },
     "metadata": {},
     "output_type": "display_data"
    }
   ],
   "source": [
    "import matplotlib.patches as mpatches\n",
    "from sklearn.cross_validation import train_test_split\n",
    "\n",
    "# Show training examples available per sign id vs fake data\n",
    "sign_ids, sign_counts = np.unique(y_train, return_counts=True)\n",
    "fake_sign_ids, fake_sign_counts = np.unique(y_fake_data, return_counts=True)\n",
    "\n",
    "plt.figure(figsize=(12,4))\n",
    "plt.title(\"Training examples available per sign (after data augmentation)\")\n",
    "plt.xticks(sign_ids)\n",
    "\n",
    "red_patch = mpatches.Patch(color='red', label='Augmented data')\n",
    "blue_patch = mpatches.Patch(color='blue', label='Original data')\n",
    "plt.legend(handles=[blue_patch, red_patch])\n",
    "plt.bar(sign_ids, sign_counts, color='blue')\n",
    "if len(fake_sign_ids) > 0:\n",
    "    plt.bar(fake_sign_ids, fake_sign_counts, color='red', bottom=sign_counts)\n",
    "\n",
    "\n",
    "# Merge the augmented data with the training data\n",
    "if len(X_fake_data) > 0:\n",
    "    X_train = np.concatenate([X_train, X_fake_data, X_test])\n",
    "    y_train = np.concatenate([y_train, y_fake_data, y_test])\n",
    "\n",
    "    X_fake_data = []\n",
    "    y_fake_data = []\n",
    "\n",
    "    # Rebuild our training and test sets by sampling randomly\n",
    "    X_train, X_test, y_train, y_test = train_test_split(X_train, y_train, test_size=0.3)\n",
    "\n",
    "\n",
    "# We only want to preprocess once\n",
    "# Unprocessed data will have a depth of 3\n",
    "# processed data will have a depth of 1\n",
    "if X_train[0].shape[2] != 1:\n",
    "    X_train = [preprocess(x) for x in X_train]\n",
    "    X_test = [preprocess(x) for x in X_test]\n",
    "    X_valid = [preprocess(x) for x in X_valid]\n",
    "\n",
    "\n",
    "# Recalculate and report summary\n",
    "n_train = len(X_train)\n",
    "n_test = len(X_test)\n",
    "n_classes = len(np.unique(y_train))\n",
    "n_classes_test = len(np.unique(y_test))\n",
    "\n",
    "print(\"[New (augmented) dataset statistics]\")\n",
    "print(\"Training examples in original dataset =\", n_train)\n",
    "print(\"Number of testing examples =\", n_test)\n",
    "print(\"Number of classes in Training set =\", n_classes)\n",
    "print(\"Number of classes in Test set =\", n_classes)\n"
   ]
  },
  {
   "cell_type": "markdown",
   "metadata": {},
   "source": [
    "### Model Architecture"
   ]
  },
  {
   "cell_type": "code",
   "execution_count": 6,
   "metadata": {
    "collapsed": false
   },
   "outputs": [],
   "source": [
    "import tensorflow as tf\n",
    "from tensorflow.contrib.layers import flatten\n",
    "\n",
    "# Note on coding practice:\n",
    "# We need some of the variables here for our L2 Regularization later\n",
    "\n",
    "# Leaving variables out in the open is bad practice, and in the Tensorflow docs\n",
    "# there is a section on variable scoping / sharing that lets us write better code.\n",
    "# Unfortunately, I have not figured out how to use that properly yet. \n",
    "# For now I am making this tradeoff.\n",
    "\n",
    "# mean and stddev used for tf.truncated_normal\n",
    "mu = 0\n",
    "sigma = 0.1\n",
    "\n",
    "cv1_filter_weights = tf.Variable(tf.truncated_normal([5, 5, 1, 12], mean=mu, stddev=sigma))\n",
    "cv1_filter_bias = tf.Variable(tf.truncated_normal([12], mean=mu, stddev=sigma))\n",
    "cv1_stride = [1, 1, 1, 1]\n",
    "cv1_padding = 'VALID'\n",
    "\n",
    "cv2_filter_weights = tf.Variable(tf.truncated_normal([5, 5, 12, 18], mean=mu, stddev=sigma))\n",
    "cv2_filter_bias = tf.Variable(tf.truncated_normal([18], mean=mu, stddev=sigma))\n",
    "cv2_stride = [1, 1, 1, 1]\n",
    "cv2_padding = 'VALID'\n",
    "\n",
    "cv2_pool_ksize = [1, 2, 2, 1]\n",
    "cv2_pool_kstrides = [1, 2, 2, 1]\n",
    "cv2_pool_kpadding = 'VALID'\n",
    "\n",
    "cv3_filter_weights = tf.Variable(tf.truncated_normal([5, 5, 18, 24], mean=mu, stddev=sigma))\n",
    "cv3_filter_bias = tf.Variable(tf.truncated_normal([24], mean=mu, stddev=sigma))\n",
    "cv3_stride = [1, 1, 1, 1]\n",
    "cv3_padding = 'VALID'\n",
    "cv3_pool_ksize = [1, 2, 2, 1]\n",
    "cv3_pool_kstrides = [1, 2, 2, 1]\n",
    "cv3_pool_kpadding = 'VALID'\n",
    "\n",
    "fc4_weights = tf.Variable(tf.truncated_normal([2976, 250], mean=mu, stddev=sigma))\n",
    "fc4_bias = tf.Variable(tf.truncated_normal([250], mean=mu, stddev=sigma))\n",
    "\n",
    "fc5_weights = tf.Variable(tf.truncated_normal([250, 100], mean=mu, stddev=sigma))\n",
    "fc5_bias = tf.Variable(tf.truncated_normal([100], mean=mu, stddev=sigma))\n",
    "\n",
    "fc6_weights = tf.Variable(tf.truncated_normal([100, 43], mean=mu, stddev=sigma))\n",
    "fc6_bias = tf.Variable(tf.truncated_normal([43], mean=mu, stddev=sigma))   \n",
    "\n",
    "keep_prob = tf.placeholder(tf.float32)\n",
    "\n",
    "cv2_pooling = tf.placeholder(tf.float32)\n",
    "cv3_pooling = tf.placeholder(tf.float32)\n",
    "fc4_activation = tf.placeholder(tf.float32)\n",
    "fc5_activation = tf.placeholder(tf.float32)\n",
    "fc6_activation = tf.placeholder(tf.float32)\n",
    "\n",
    "def TrafficSignConvNet(x):\n",
    "    \n",
    "    # Layer 1: Convolutional. Input = 32x32x1. Output = 28x28x12.\n",
    "    cv1 = tf.nn.conv2d(x, cv1_filter_weights, strides=cv1_stride, padding=cv1_padding)\n",
    "    cv1 = tf.nn.bias_add(cv1, cv1_filter_bias)\n",
    "    \n",
    "    # Activation.\n",
    "    cv1_activation = tf.nn.relu(cv1)\n",
    "\n",
    "    # Layer 2: Convolutional. Input = 28x28x12. Output = 24x24x18.\n",
    "    cv2 = tf.nn.conv2d(cv1_activation, cv2_filter_weights, strides=cv2_stride, padding=cv2_padding)\n",
    "    cv2 = tf.nn.bias_add(cv2, cv2_filter_bias)\n",
    "    \n",
    "    # Activation.\n",
    "    cv2_activation = tf.nn.relu(cv2)\n",
    "    \n",
    "    # Pooling. Input = 24x24x18. Output = 12x12x18\n",
    "    cv2_pooling = tf.nn.max_pool(cv2_activation, cv2_pool_ksize, cv2_pool_kstrides, cv2_pool_kpadding)\n",
    "    \n",
    "    # Flatten. Input = 12x12x18. Output = 2592\n",
    "    cv2_flat = flatten(cv2_pooling)\n",
    "\n",
    "    # Layer 3: Convolutional. Output = 8x8x24.\n",
    "    cv3 = tf.nn.conv2d(cv2_pooling, cv3_filter_weights, cv3_stride, cv3_padding)\n",
    "    cv3 = tf.nn.bias_add(cv3, cv3_filter_bias)\n",
    "    \n",
    "    # Activation.\n",
    "    cv3_activation = tf.nn.relu(cv3)\n",
    "\n",
    "    # Pooling. Input = 8x8x24. Output = 4x4x24\n",
    "    cv3_pooling = tf.nn.max_pool(cv3_activation, cv3_pool_ksize, cv3_pool_kstrides, cv3_pool_kpadding)\n",
    "\n",
    "    # Dropout\n",
    "    cv3_output = tf.nn.dropout(cv3_pooling, keep_prob)\n",
    "    \n",
    "    # Flatten. Input = 4x4x24. Output = 384\n",
    "    cv3_flat = flatten(cv3_output)\n",
    "    \n",
    "    # Merge output from stage 1 & 2 pooling into final layer\n",
    "    # (As per the Semmanet and LeCun paper)\n",
    "    # Input = 2592 + 384 = 2976\n",
    "    merged_input = tf.concat([cv2_flat, cv3_flat], 1)\n",
    "    \n",
    "    # Layer 4: Fully Connected. Input = 2976. Output = 250.\n",
    "    fc4 = tf.add(tf.matmul(merged_input, fc4_weights), fc4_bias)\n",
    "\n",
    "    # Activation.\n",
    "    fc4_activation = tf.nn.relu(fc4)\n",
    "    \n",
    "    # Layer 5: Fully Connected. Input = 250. Output = 100.\n",
    "    fc5 = tf.add(tf.matmul(fc4_activation, fc5_weights), fc5_bias)\n",
    "\n",
    "    # Activation.\n",
    "    fc5_activation = tf.nn.relu(fc5)\n",
    "    \n",
    "    # Layer 6: Fully Connected. Input = 100. Output = 43.\n",
    "    logits = tf.add(tf.matmul(fc5_activation, fc6_weights), fc6_bias)\n",
    "    \n",
    "    return logits\n",
    "\n",
    "# One-hot encode our labels\n",
    "x = tf.placeholder(tf.float32, (None, 32, 32, 1))\n",
    "y = tf.placeholder(tf.int32, (None))\n",
    "one_hot_y = tf.one_hot(y, n_classes)"
   ]
  },
  {
   "cell_type": "markdown",
   "metadata": {},
   "source": [
    "### Train, Validate and Test the Model"
   ]
  },
  {
   "cell_type": "markdown",
   "metadata": {},
   "source": [
    "A validation set can be used to assess how well the model is performing. A low accuracy on the training and validation\n",
    "sets imply underfitting. A high accuracy on the training set but low accuracy on the validation set implies overfitting."
   ]
  },
  {
   "cell_type": "code",
   "execution_count": 7,
   "metadata": {
    "collapsed": false,
    "scrolled": false
   },
   "outputs": [
    {
     "name": "stdout",
     "output_type": "stream",
     "text": [
      "Training...\n",
      "\n",
      "EPOCH 1, Remaining: 10\n",
      "Accuracy against Training set = 0.965\n",
      "Accuracy against Test set = 0.954\n",
      "Accuracy against Validation set = 0.972\n",
      "(New maximum! +3 Epochs)\n",
      "\n",
      "EPOCH 2, Remaining: 12\n",
      "Accuracy against Training set = 0.982\n",
      "Accuracy against Test set = 0.974\n",
      "Accuracy against Validation set = 0.976\n",
      "(New maximum! +3 Epochs)\n",
      "\n",
      "EPOCH 3, Remaining: 14\n",
      "Accuracy against Training set = 0.986\n",
      "Accuracy against Test set = 0.978\n",
      "Accuracy against Validation set = 0.980\n",
      "(New maximum! +3 Epochs)\n",
      "\n",
      "EPOCH 4, Remaining: 16\n",
      "Accuracy against Training set = 0.982\n",
      "Accuracy against Test set = 0.975\n",
      "Accuracy against Validation set = 0.981\n",
      "(New maximum! +3 Epochs)\n",
      "\n",
      "EPOCH 5, Remaining: 18\n",
      "Accuracy against Training set = 0.983\n",
      "Accuracy against Test set = 0.976\n",
      "Accuracy against Validation set = 0.978\n",
      "\n",
      "EPOCH 6, Remaining: 17\n",
      "Accuracy against Training set = 0.989\n",
      "Accuracy against Test set = 0.984\n",
      "Accuracy against Validation set = 0.978\n",
      "\n",
      "EPOCH 7, Remaining: 16\n",
      "Accuracy against Training set = 0.993\n",
      "Accuracy against Test set = 0.988\n",
      "Accuracy against Validation set = 0.989\n",
      "(New maximum! +3 Epochs)\n",
      "\n",
      "EPOCH 8, Remaining: 18\n",
      "Accuracy against Training set = 0.989\n",
      "Accuracy against Test set = 0.985\n",
      "Accuracy against Validation set = 0.985\n",
      "\n",
      "EPOCH 9, Remaining: 17\n",
      "Accuracy against Training set = 0.991\n",
      "Accuracy against Test set = 0.985\n",
      "Accuracy against Validation set = 0.983\n",
      "\n",
      "EPOCH 10, Remaining: 16\n",
      "Accuracy against Training set = 0.992\n",
      "Accuracy against Test set = 0.988\n",
      "Accuracy against Validation set = 0.980\n",
      "\n",
      "EPOCH 11, Remaining: 15\n",
      "Accuracy against Training set = 0.992\n",
      "Accuracy against Test set = 0.987\n",
      "Accuracy against Validation set = 0.983\n",
      "\n",
      "EPOCH 12, Remaining: 14\n",
      "Accuracy against Training set = 0.990\n",
      "Accuracy against Test set = 0.985\n",
      "Accuracy against Validation set = 0.983\n",
      "\n",
      "EPOCH 13, Remaining: 13\n",
      "Accuracy against Training set = 0.994\n",
      "Accuracy against Test set = 0.989\n",
      "Accuracy against Validation set = 0.986\n",
      "\n",
      "EPOCH 14, Remaining: 12\n",
      "Accuracy against Training set = 0.993\n",
      "Accuracy against Test set = 0.986\n",
      "Accuracy against Validation set = 0.988\n",
      "\n",
      "EPOCH 15, Remaining: 11\n",
      "Accuracy against Training set = 0.993\n",
      "Accuracy against Test set = 0.986\n",
      "Accuracy against Validation set = 0.982\n",
      "\n",
      "EPOCH 16, Remaining: 10\n",
      "Accuracy against Training set = 0.994\n",
      "Accuracy against Test set = 0.989\n",
      "Accuracy against Validation set = 0.988\n",
      "\n",
      "EPOCH 17, Remaining: 9\n",
      "Accuracy against Training set = 0.993\n",
      "Accuracy against Test set = 0.988\n",
      "Accuracy against Validation set = 0.985\n",
      "\n",
      "EPOCH 18, Remaining: 8\n",
      "Accuracy against Training set = 0.993\n",
      "Accuracy against Test set = 0.987\n",
      "Accuracy against Validation set = 0.988\n",
      "\n",
      "EPOCH 19, Remaining: 7\n",
      "Accuracy against Training set = 0.993\n",
      "Accuracy against Test set = 0.988\n",
      "Accuracy against Validation set = 0.975\n",
      "\n",
      "EPOCH 20, Remaining: 6\n",
      "Accuracy against Training set = 0.995\n",
      "Accuracy against Test set = 0.990\n",
      "Accuracy against Validation set = 0.986\n",
      "\n",
      "EPOCH 21, Remaining: 5\n",
      "Accuracy against Training set = 0.994\n",
      "Accuracy against Test set = 0.990\n",
      "Accuracy against Validation set = 0.985\n",
      "\n",
      "EPOCH 22, Remaining: 4\n",
      "Accuracy against Training set = 0.993\n",
      "Accuracy against Test set = 0.988\n",
      "Accuracy against Validation set = 0.982\n",
      "\n",
      "EPOCH 23, Remaining: 3\n",
      "Accuracy against Training set = 0.994\n",
      "Accuracy against Test set = 0.989\n",
      "Accuracy against Validation set = 0.983\n",
      "\n",
      "EPOCH 24, Remaining: 2\n",
      "Accuracy against Training set = 0.989\n",
      "Accuracy against Test set = 0.983\n",
      "Accuracy against Validation set = 0.977\n",
      "\n",
      "EPOCH 25, Remaining: 1\n",
      "Accuracy against Training set = 0.995\n",
      "Accuracy against Test set = 0.991\n",
      "Accuracy against Validation set = 0.976\n",
      "\n",
      "EPOCH 26, Remaining: 0\n",
      "Accuracy against Training set = 0.993\n",
      "Accuracy against Test set = 0.988\n",
      "Accuracy against Validation set = 0.982\n",
      "\n",
      "Model saved\n"
     ]
    }
   ],
   "source": [
    "# Training pipeline\n",
    "from sklearn.utils import shuffle\n",
    "\n",
    "rate = 0.001\n",
    "\n",
    "logits = TrafficSignConvNet(x)\n",
    "\n",
    "# L2 Regularization\n",
    "cross_entropy = tf.nn.softmax_cross_entropy_with_logits(logits=logits, labels=one_hot_y)\n",
    "l2_loss = (rate * tf.nn.l2_loss(cv1_filter_weights) +\n",
    "           rate * tf.nn.l2_loss(cv3_filter_weights) +\n",
    "           rate * tf.nn.l2_loss(fc4_weights) +\n",
    "           rate * tf.nn.l2_loss(fc5_weights) +\n",
    "           rate * tf.nn.l2_loss(fc6_weights))\n",
    "\n",
    "l2_regularization = cross_entropy + l2_loss\n",
    "                                     \n",
    "loss_operation = tf.reduce_mean(l2_regularization)\n",
    "optimizer = tf.train.AdamOptimizer(learning_rate = rate)\n",
    "training_operation = optimizer.minimize(loss_operation)\n",
    "\n",
    "# Model evaluation\n",
    "correct_prediction = tf.equal(tf.argmax(logits, 1), tf.argmax(one_hot_y, 1))\n",
    "accuracy_operation = tf.reduce_mean(tf.cast(correct_prediction, tf.float32))\n",
    "\n",
    "saver = tf.train.Saver()\n",
    "\n",
    "def evaluate(X_data, y_data):\n",
    "    num_examples = len(X_data)\n",
    "    total_accuracy = 0\n",
    "    sess = tf.get_default_session()\n",
    "    for offset in range(0, num_examples, BATCH_SIZE):\n",
    "        batch_x, batch_y = X_data[offset:offset+BATCH_SIZE], y_data[offset:offset+BATCH_SIZE]\n",
    "        accuracy = sess.run(accuracy_operation, feed_dict={x: batch_x, y: batch_y, keep_prob: 1.0})\n",
    "        total_accuracy += (accuracy * len(batch_x))\n",
    "    return total_accuracy / num_examples\n",
    "\n",
    "EPOCHS = 10\n",
    "BATCH_SIZE = 64\n",
    "\n",
    "with tf.Session() as sess:\n",
    "    sess.run(tf.global_variables_initializer())\n",
    "    num_examples = len(X_train)\n",
    "    \n",
    "    print(\"Training...\")\n",
    "    print()\n",
    "    \n",
    "    current_epoch = 0\n",
    "    remaining_epochs = EPOCHS\n",
    "    current_max = 0\n",
    "    while remaining_epochs >= 0:\n",
    "        current_epoch = current_epoch + 1\n",
    "        \n",
    "        X_train, y_train, X_test, y_test = rebuild_train_and_test(X_train, y_train, X_test, y_test)\n",
    "\n",
    "        for offset in range(0, num_examples, BATCH_SIZE):\n",
    "            end = offset + BATCH_SIZE\n",
    "            batch_x, batch_y = X_train[offset:end], y_train[offset:end]\n",
    "            sess.run(training_operation, feed_dict={x: batch_x, y: batch_y, keep_prob: 0.5})\n",
    "\n",
    "        validation_accuracy = evaluate(X_valid, y_valid)\n",
    "        test_accuracy = evaluate(X_test, y_test)\n",
    "        train_accuracy = evaluate(X_train, y_train)\n",
    "        print(\"EPOCH {}, Remaining: {}\".format(current_epoch, remaining_epochs))\n",
    "        print(\"Accuracy against Training set = {:.3f}\".format(train_accuracy))\n",
    "        print(\"Accuracy against Test set = {:.3f}\".format(test_accuracy))   \n",
    "        print(\"Accuracy against Validation set = {:.3f}\".format(validation_accuracy))   \n",
    "        \n",
    "        # If we are making progress, add another 3 epochs to our run \n",
    "        # to give the training another chance to get improve\n",
    "        if (validation_accuracy > current_max):\n",
    "            current_max = validation_accuracy\n",
    "            remaining_epochs += 3\n",
    "            print(\"(New maximum! +3 Epochs)\")\n",
    "\n",
    "        remaining_epochs = remaining_epochs - 1\n",
    "        print()\n",
    "        \n",
    "    saver.save(sess, model_file)\n",
    "    \n",
    "    print(\"Model saved\")\n",
    "    \n",
    "    sess.close()\n"
   ]
  },
  {
   "cell_type": "markdown",
   "metadata": {},
   "source": [
    "---\n",
    "\n",
    "## Step 3: Test a Model on New Images\n",
    "\n",
    "To give yourself more insight into how your model is working, download at least five pictures of German traffic signs from the web and use your model to predict the traffic sign type.\n",
    "\n",
    "You may find `signnames.csv` useful as it contains mappings from the class id (integer) to the actual sign name."
   ]
  },
  {
   "cell_type": "markdown",
   "metadata": {},
   "source": [
    "### Load and Output the Images"
   ]
  },
  {
   "cell_type": "code",
   "execution_count": 8,
   "metadata": {
    "collapsed": false
   },
   "outputs": [
    {
     "data": {
      "image/png": "[encoded data removed]",
      "text/plain": [
       "<matplotlib.figure.Figure at 0x7fc094644160>"
      ]
     },
     "metadata": {},
     "output_type": "display_data"
    },
    {
     "data": {
      "image/png": "[encoded data removed]",
      "text/plain": [
       "<matplotlib.figure.Figure at 0x7fc092cf32b0>"
      ]
     },
     "metadata": {},
     "output_type": "display_data"
    },
    {
     "data": {
      "image/png": "[encoded data removed]",
      "text/plain": [
       "<matplotlib.figure.Figure at 0x7fc0951b9a90>"
      ]
     },
     "metadata": {},
     "output_type": "display_data"
    },
    {
     "data": {
      "image/png": "[encoded data removed]",
      "text/plain": [
       "<matplotlib.figure.Figure at 0x7fc09327d0f0>"
      ]
     },
     "metadata": {},
     "output_type": "display_data"
    },
    {
     "data": {
      "image/png": "[encoded data removed]",
      "text/plain": [
       "<matplotlib.figure.Figure at 0x7fc062e54c88>"
      ]
     },
     "metadata": {},
     "output_type": "display_data"
    }
   ],
   "source": [
    "test_image_folder = 'testsign/'\n",
    "\n",
    "test_image_list = ['kinder.jpg',\n",
    "                 'pedestrians.jpg',\n",
    "                 'snow.jpg',\n",
    "                 'speedlimit.jpg',\n",
    "                 'generalcaution.jpg']\n",
    "\n",
    "test_image_labels = [28, 27, 23, 1, 18]\n",
    "\n",
    "test_images = []\n",
    "test_images_preprocessed = []\n",
    "\n",
    "# Pre-process images\n",
    "for x in range(0, len(test_image_list)):\n",
    "    file_name = test_image_list[x]\n",
    "    current_image = plt.imread(test_image_folder + file_name)\n",
    "    plt.figure(figsize=(2, 2))\n",
    "    plt.title(sign_name_lookup[str(test_image_labels[x])])\n",
    "    plt.axis('off')\n",
    "    plt.imshow(current_image)\n",
    "    \n",
    "    test_images.append(current_image)\n",
    "    test_images_preprocessed.append(preprocess(current_image))\n"
   ]
  },
  {
   "cell_type": "markdown",
   "metadata": {},
   "source": [
    "### Predict the Sign Type for Each Image"
   ]
  },
  {
   "cell_type": "code",
   "execution_count": 9,
   "metadata": {
    "collapsed": false,
    "scrolled": false
   },
   "outputs": [
    {
     "name": "stdout",
     "output_type": "stream",
     "text": [
      "[Predictions]\n",
      " 1. Actual: (28) Children crossing      Predicted: (28) Children crossing    <- Correct! \n",
      " 2. Actual: (27) Pedestrians            Predicted: (27) Pedestrians          <- Correct! \n",
      " 3. Actual: (23) Slippery road          Predicted: (23) Slippery road        <- Correct! \n",
      " 4. Actual: ( 1) Speed limit (30km/h)   Predicted: ( 1) Speed limit (30km/h) <- Correct! \n",
      " 5. Actual: (18) General caution        Predicted: (23) Slippery road         \n",
      "\n",
      "Prediction accuracy: 80.00%\n"
     ]
    }
   ],
   "source": [
    "saver = tf.train.Saver()\n",
    "\n",
    "# Variables\n",
    "x = tf.placeholder(tf.float32, (None, 32, 32, 1))\n",
    "y = tf.placeholder(tf.int32, (None))\n",
    "one_hot_y = tf.one_hot(y, n_classes)\n",
    "\n",
    "# Operations\n",
    "logits = TrafficSignConvNet(x)\n",
    "correct_prediction = tf.equal(tf.argmax(logits, 1), tf.argmax(one_hot_y, 1))\n",
    "accuracy_operation = tf.reduce_mean(tf.cast(correct_prediction, tf.float32))\n",
    "\n",
    "with tf.Session() as sess:\n",
    "    sess.run(tf.global_variables_initializer())\n",
    "    saver.restore(sess, model_file)\n",
    "    softmax_output = sess.run(tf.nn.softmax(logits), feed_dict={ x: test_images_preprocessed, y: test_image_labels, keep_prob: 1.0})\n",
    "    predictions = sess.run(tf.argmax(softmax_output, 1))\n",
    "    accuracy = sess.run(accuracy_operation, feed_dict={ x: test_images_preprocessed, y: test_image_labels, keep_prob: 1.0 })\n",
    "\n",
    "    print(\"[Predictions]\")\n",
    "    for idx in range(0, len(predictions)):\n",
    "        indicator = '<- Correct!' if predictions[idx] == test_image_labels[idx] else ''\n",
    "        print ('{:>2}. Actual: ({:>2}) {:<20}   Predicted: ({:>2}) {:<20} {} '.format(idx + 1, test_image_labels[idx], sign_name_lookup[str(test_image_labels[idx])], predictions[idx], sign_name_lookup[str(predictions[idx])], indicator))\n",
    "\n",
    "    print()\n",
    "    print('Prediction accuracy: {:.2f}%'.format(accuracy * 100))\n",
    "        \n",
    "    sess.close()"
   ]
  },
  {
   "cell_type": "markdown",
   "metadata": {},
   "source": [
    "### Analyze Performance"
   ]
  },
  {
   "cell_type": "code",
   "execution_count": 111,
   "metadata": {
    "collapsed": true
   },
   "outputs": [],
   "source": [
    "### Calculate the accuracy for these 5 new images. \n",
    "### For example, if the model predicted 1 out of 5 signs correctly, it's 20% accurate on these new images.\n",
    "\n",
    "# Note: The performance has been analyzed in the previous cell"
   ]
  },
  {
   "cell_type": "markdown",
   "metadata": {},
   "source": [
    "### Output Top 5 Softmax Probabilities For Each Image Found on the Web"
   ]
  },
  {
   "cell_type": "markdown",
   "metadata": {},
   "source": [
    "For each of the new images, print out the model's softmax probabilities to show the **certainty** of the model's predictions (limit the output to the top 5 probabilities for each image). [`tf.nn.top_k`](https://www.tensorflow.org/versions/r0.12/api_docs/python/nn.html#top_k) could prove helpful here. \n",
    "\n",
    "The example below demonstrates how tf.nn.top_k can be used to find the top k predictions for each image.\n",
    "\n",
    "`tf.nn.top_k` will return the values and indices (class ids) of the top k predictions. So if k=3, for each sign, it'll return the 3 largest probabilities (out of a possible 43) and the correspoding class ids.\n",
    "\n",
    "Take this numpy array as an example. The values in the array represent predictions. The array contains softmax probabilities for five candidate images with six possible classes. `tk.nn.top_k` is used to choose the three classes with the highest probability:\n",
    "\n",
    "```\n",
    "# (5, 6) array\n",
    "a = np.array([[ 0.24879643,  0.07032244,  0.12641572,  0.34763842,  0.07893497,\n",
    "         0.12789202],\n",
    "       [ 0.28086119,  0.27569815,  0.08594638,  0.0178669 ,  0.18063401,\n",
    "         0.15899337],\n",
    "       [ 0.26076848,  0.23664738,  0.08020603,  0.07001922,  0.1134371 ,\n",
    "         0.23892179],\n",
    "       [ 0.11943333,  0.29198961,  0.02605103,  0.26234032,  0.1351348 ,\n",
    "         0.16505091],\n",
    "       [ 0.09561176,  0.34396535,  0.0643941 ,  0.16240774,  0.24206137,\n",
    "         0.09155967]])\n",
    "```\n",
    "\n",
    "Running it through `sess.run(tf.nn.top_k(tf.constant(a), k=3))` produces:\n",
    "\n",
    "```\n",
    "TopKV2(values=array([[ 0.34763842,  0.24879643,  0.12789202],\n",
    "       [ 0.28086119,  0.27569815,  0.18063401],\n",
    "       [ 0.26076848,  0.23892179,  0.23664738],\n",
    "       [ 0.29198961,  0.26234032,  0.16505091],\n",
    "       [ 0.34396535,  0.24206137,  0.16240774]]), indices=array([[3, 0, 5],\n",
    "       [0, 1, 4],\n",
    "       [0, 5, 1],\n",
    "       [1, 3, 5],\n",
    "       [1, 4, 3]], dtype=int32))\n",
    "```\n",
    "\n",
    "Looking just at the first row we get `[ 0.34763842,  0.24879643,  0.12789202]`, you can confirm these are the 3 largest probabilities in `a`. You'll also notice `[3, 0, 5]` are the corresponding indices."
   ]
  },
  {
   "cell_type": "code",
   "execution_count": 10,
   "metadata": {
    "collapsed": false
   },
   "outputs": [
    {
     "data": {
      "image/png": "[encoded data removed]",
      "text/plain": [
       "<matplotlib.figure.Figure at 0x7fc09475fef0>"
      ]
     },
     "metadata": {},
     "output_type": "display_data"
    },
    {
     "data": {
      "image/png": "[encoded data removed]",
      "text/plain": [
       "<matplotlib.figure.Figure at 0x7fc06f91cb70>"
      ]
     },
     "metadata": {},
     "output_type": "display_data"
    },
    {
     "data": {
      "image/png": "[encoded data removed]",
      "text/plain": [
       "<matplotlib.figure.Figure at 0x7fc0637fbb70>"
      ]
     },
     "metadata": {},
     "output_type": "display_data"
    },
    {
     "data": {
      "image/png": "[encoded data removed]",
      "text/plain": [
       "<matplotlib.figure.Figure at 0x7fc09327c5f8>"
      ]
     },
     "metadata": {},
     "output_type": "display_data"
    },
    {
     "data": {
      "image/png": "[encoded data removed]",
      "text/plain": [
       "<matplotlib.figure.Figure at 0x7fc092cb3e10>"
      ]
     },
     "metadata": {},
     "output_type": "display_data"
    }
   ],
   "source": [
    "# Get the top 5 softmax_outputs and display them\n",
    "with tf.Session() as sess:\n",
    "    top_k = sess.run(tf.nn.top_k(tf.constant(softmax_output), k=5))\n",
    "    probabilities = top_k.values\n",
    "    indices = top_k.indices\n",
    "\n",
    "    for x in range(0, len(test_images)):\n",
    "        plt.figure(figsize=(2, 2))\n",
    "        description = \"Softmax Probabilities:\\n({:>2}) {}: {:.3f}%\\n({:>2}) {}: {:.3f}%\\n({:>2}) {}: {:.3f}%\".format(indices[x][0], sign_name_lookup[str(indices[x][0])], probabilities[x][0] * 100,\n",
    "                                                                                          indices[x][1], sign_name_lookup[str(indices[x][1])], probabilities[x][1] * 100,\n",
    "                                                                                          indices[x][2], sign_name_lookup[str(indices[x][2])], probabilities[x][2] * 100)\n",
    "        plt.text (35, 18, description)\n",
    "        plt.axis('off')\n",
    "        plt.imshow(test_images[x])\n",
    "        \n",
    "    sess.close()\n",
    "    "
   ]
  },
  {
   "cell_type": "markdown",
   "metadata": {},
   "source": [
    "---\n",
    "\n",
    "## Step 4: Visualize the Neural Network's State with Test Images\n",
    "\n",
    " This Section is not required to complete but acts as an additional excersise for understaning the output of a neural network's weights. While neural networks can be a great learning device they are often referred to as a black box. We can understand what the weights of a neural network look like better by plotting their feature maps. After successfully training your neural network you can see what it's feature maps look like by plotting the output of the network's weight layers in response to a test stimuli image. From these plotted feature maps, it's possible to see what characteristics of an image the network finds interesting. For a sign, maybe the inner network feature maps react with high activation to the sign's boundary outline or to the contrast in the sign's painted symbol.\n",
    "\n",
    " Provided for you below is the function code that allows you to get the visualization output of any tensorflow weight layer you want. The inputs to the function should be a stimuli image, one used during training or a new one you provided, and then the tensorflow variable name that represents the layer's state during the training process, for instance if you wanted to see what the [LeNet lab's](https://classroom.udacity.com/nanodegrees/nd013/parts/fbf77062-5703-404e-b60c-95b78b2f3f9e/modules/6df7ae49-c61c-4bb2-a23e-6527e69209ec/lessons/601ae704-1035-4287-8b11-e2c2716217ad/concepts/d4aca031-508f-4e0b-b493-e7b706120f81) feature maps looked like for it's second convolutional layer you could enter conv2 as the tf_activation variable.\n",
    "\n",
    "For an example of what feature map outputs look like, check out NVIDIA's results in their paper [End-to-End Deep Learning for Self-Driving Cars](https://devblogs.nvidia.com/parallelforall/deep-learning-self-driving-cars/) in the section Visualization of internal CNN State. NVIDIA was able to show that their network's inner weights had high activations to road boundary lines by comparing feature maps from an image with a clear path to one without. Try experimenting with a similar test to show that your trained network's weights are looking for interesting features, whether it's looking at differences in feature maps from images with or without a sign, or even what feature maps look like in a trained network vs a completely untrained one on the same sign image.\n",
    "\n",
    "<figure>\n",
    " <img src=\"visualize_cnn.png\" width=\"380\" alt=\"Combined Image\" />\n",
    " <figcaption>\n",
    " <p></p> \n",
    " <p style=\"text-align: center;\"> Your output should look something like this (above)</p> \n",
    " </figcaption>\n",
    "</figure>\n",
    " <p></p> \n"
   ]
  },
  {
   "cell_type": "code",
   "execution_count": 57,
   "metadata": {
    "collapsed": false,
    "scrolled": false
   },
   "outputs": [],
   "source": [
    "### Visualize your network's feature maps here.\n",
    "### Feel free to use as many code cells as needed.\n",
    "\n",
    "# image_input: the test image being fed into the network to produce the feature maps\n",
    "# tf_activation: should be a tf variable name used during your training procedure that represents the calculated state of a specific weight layer\n",
    "# activation_min/max: can be used to view the activation contrast in more detail, by default matplot sets min and max to the actual min and max values of the output\n",
    "# plt_num: used to plot out multiple different weight feature map sets on the same block, just extend the plt number for each new feature map entry\n",
    "\n",
    "def outputFeatureMap(image_input, tf_activation, activation_min=-1, activation_max=-1 ,plt_num=1):\n",
    "    # Here make sure to preprocess your image_input in a way your network expects\n",
    "    # with size, normalization, ect if needed\n",
    "    # image_input =\n",
    "    # Note: x should be the same name as your network's tensorflow data placeholder variable\n",
    "    # If you get an error tf_activation is not defined it maybe having trouble accessing the variable from inside a function\n",
    "    activation = tf_activation.eval(session=sess, feed_dict={x : image_input})\n",
    "    featuremaps = activation.shape[3]\n",
    "    plt.figure(plt_num, figsize=(15,15))\n",
    "    for featuremap in range(featuremaps):\n",
    "        plt.subplot(6,8, featuremap+1) # sets the number of feature maps to show on each row and column\n",
    "        plt.title('FeatureMap ' + str(featuremap)) # displays the feature map number\n",
    "        if activation_min != -1 & activation_max != -1:\n",
    "            plt.imshow(activation[0,:,:, featuremap], interpolation=\"nearest\", vmin =activation_min, vmax=activation_max, cmap=\"gray\")\n",
    "        elif activation_max != -1:\n",
    "            plt.imshow(activation[0,:,:, featuremap], interpolation=\"nearest\", vmax=activation_max, cmap=\"gray\")\n",
    "        elif activation_min !=-1:\n",
    "            plt.imshow(activation[0,:,:, featuremap], interpolation=\"nearest\", vmin=activation_min, cmap=\"gray\")\n",
    "        else:\n",
    "            plt.imshow(activation[0,:,:, featuremap], interpolation=\"nearest\", cmap=\"gray\")\n"
   ]
  },
  {
   "cell_type": "markdown",
   "metadata": {},
   "source": [
    "### Question 9\n",
    "\n",
    "Discuss how you used the visual output of your trained network's feature maps to show that it had learned to look for interesting characteristics in traffic sign images\n"
   ]
  },
  {
   "cell_type": "markdown",
   "metadata": {},
   "source": [
    "**Answer:**"
   ]
  },
  {
   "cell_type": "markdown",
   "metadata": {},
   "source": [
    "Unfortunately, as I am still getting used to Tensorflow, I was not able to get the outputFeatureMaps function to work. I ended up prioritizing the other sections to ensure a properly completed project. I did find some documentation on variable sharing which might help me, but due to time constraints, I will submit the project as is for now. Will play around and have fun with this another time. :)"
   ]
  },
  {
   "cell_type": "markdown",
   "metadata": {},
   "source": [
    "### Project Writeup\n",
    "\n",
    "Once you have completed the code implementation, document your results in a project writeup using this [template](https://github.com/udacity/CarND-Traffic-Sign-Classifier-Project/blob/master/writeup_template.md) as a guide. The writeup can be in a markdown or pdf file. "
   ]
  }
 ],
 "metadata": {
  "anaconda-cloud": {},
  "kernelspec": {
   "display_name": "Python 3",
   "language": "python",
   "name": "python3"
  },
  "language_info": {
   "codemirror_mode": {
    "name": "ipython",
    "version": 3
   },
   "file_extension": ".py",
   "mimetype": "text/x-python",
   "name": "python",
   "nbconvert_exporter": "python",
   "pygments_lexer": "ipython3",
   "version": "3.5.2"
  },
  "widgets": {
   "state": {},
   "version": "1.1.2"
  }
 },
 "nbformat": 4,
 "nbformat_minor": 1
}
